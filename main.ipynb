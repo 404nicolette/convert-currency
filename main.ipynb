{
 "cells": [
  {
   "cell_type": "code",
   "execution_count": 2,
   "id": "21314a64",
   "metadata": {},
   "outputs": [],
   "source": [
    "from bs4 import BeautifulSoup\n",
    "import requests\n",
    "import pandas as pd"
   ]
  },
  {
   "cell_type": "code",
   "execution_count": 4,
   "id": "3fd4a30f",
   "metadata": {},
   "outputs": [],
   "source": [
    "url = 'https://www.x-rates.com/table/?from=USD&amount=1'\n",
    "raw_html = requests.get(url)"
   ]
  },
  {
   "cell_type": "code",
   "execution_count": 5,
   "id": "ea1f0cde",
   "metadata": {},
   "outputs": [],
   "source": [
    "soup = BeautifulSoup(raw_html.content, 'html.parser')\n",
    "main_table = soup.find(class_='tablesorter ratesTable')"
   ]
  },
  {
   "cell_type": "code",
   "execution_count": 63,
   "id": "c01eef30",
   "metadata": {
    "scrolled": true
   },
   "outputs": [],
   "source": [
    "#print(main_table.prettify())"
   ]
  },
  {
   "cell_type": "code",
   "execution_count": 26,
   "id": "56232aa5",
   "metadata": {},
   "outputs": [],
   "source": [
    "currency_exchange = {}"
   ]
  },
  {
   "cell_type": "code",
   "execution_count": 27,
   "id": "466ad861",
   "metadata": {
    "scrolled": false
   },
   "outputs": [],
   "source": [
    "for row in main_table.find_all('tr'): # table row= the code block per currency\n",
    "    columns = row.find_all('td') # td is the data per line in the code block per currency\n",
    "    \n",
    "    if len(columns) == 3:\n",
    "        currency = columns[0].get_text(strip=True)\n",
    "       # print(currency)--> prints all the currency name\n",
    "      \n",
    "        exchange_rate = float(columns[1].get_text(strip=True))\n",
    "        # print(exchange_rate)--> prints all the exchange rate\n",
    "        \n",
    "        format_exchange_rate = '{:.2f}'.format(exchange_rate) \n",
    "        #print(format_exchange_rate)\n",
    "        \n",
    "        # --------- store data -------------------\n",
    "        currency_exchange[currency] = format_exchange_rate\n",
    "        "
   ]
  },
  {
   "cell_type": "code",
   "execution_count": 28,
   "id": "101279f4",
   "metadata": {
    "scrolled": false
   },
   "outputs": [
    {
     "name": "stdout",
     "output_type": "stream",
     "text": [
      "{'Argentine Peso': '350.03', 'Australian Dollar': '1.58', 'Bahraini Dinar': '0.38', 'Botswana Pula': '13.75', 'Brazilian Real': '5.05', 'Bruneian Dollar': '1.37', 'Bulgarian Lev': '1.85', 'Canadian Dollar': '1.37', 'Chilean Peso': '938.62', 'Chinese Yuan Renminbi': '7.30', 'Colombian Peso': '4230.00', 'Czech Koruna': '23.40', 'Danish Krone': '7.07', 'Euro': '0.95', 'Hong Kong Dollar': '7.82', 'Hungarian Forint': '366.61', 'Icelandic Krona': '138.89', 'Indian Rupee': '83.28', 'Indonesian Rupiah': '15718.08', 'Iranian Rial': '42181.75', 'Israeli Shekel': '3.97', 'Japanese Yen': '149.78', 'Kazakhstani Tenge': '475.91', 'South Korean Won': '1348.05', 'Kuwaiti Dinar': '0.31', 'Libyan Dinar': '4.88', 'Malaysian Ringgit': '4.71', 'Mauritian Rupee': '44.18', 'Mexican Peso': '17.89', 'Nepalese Rupee': '133.31', 'New Zealand Dollar': '1.68', 'Norwegian Krone': '10.97', 'Omani Rial': '0.39', 'Pakistani Rupee': '279.32', 'Philippine Peso': '56.72', 'Polish Zloty': '4.30', 'Qatari Riyal': '3.64', 'Romanian New Leu': '4.70', 'Russian Ruble': '97.66', 'Saudi Arabian Riyal': '3.75', 'Singapore Dollar': '1.37', 'South African Rand': '18.97', 'Sri Lankan Rupee': '323.76', 'Swedish Krona': '10.97', 'Swiss Franc': '0.91', 'Taiwan New Dollar': '32.19', 'Thai Baht': '36.36', 'Trinidadian Dollar': '6.78', 'Turkish Lira': '27.76', 'Emirati Dirham': '3.67', 'British Pound': '0.82', 'Venezuelan Bolivar': '3482601.95'}\n"
     ]
    }
   ],
   "source": [
    "print(currency_exchange)"
   ]
  },
  {
   "cell_type": "code",
   "execution_count": 53,
   "id": "8d7432db",
   "metadata": {
    "scrolled": false
   },
   "outputs": [
    {
     "name": "stdout",
     "output_type": "stream",
     "text": [
      "                 Currency Exchange Rate (against 1 USD)\n",
      "0          Argentine Peso                        350.03\n",
      "1       Australian Dollar                          1.58\n",
      "2          Bahraini Dinar                          0.38\n",
      "3           Botswana Pula                         13.75\n",
      "4          Brazilian Real                          5.05\n",
      "5         Bruneian Dollar                          1.37\n",
      "6           Bulgarian Lev                          1.85\n",
      "7         Canadian Dollar                          1.37\n",
      "8            Chilean Peso                        938.62\n",
      "9   Chinese Yuan Renminbi                          7.30\n",
      "10         Colombian Peso                       4230.00\n",
      "11           Czech Koruna                         23.40\n",
      "12           Danish Krone                          7.07\n",
      "13                   Euro                          0.95\n",
      "14       Hong Kong Dollar                          7.82\n",
      "15       Hungarian Forint                        366.61\n",
      "16        Icelandic Krona                        138.89\n",
      "17           Indian Rupee                         83.28\n",
      "18      Indonesian Rupiah                      15718.08\n",
      "19           Iranian Rial                      42181.75\n",
      "20         Israeli Shekel                          3.97\n",
      "21           Japanese Yen                        149.78\n",
      "22      Kazakhstani Tenge                        475.91\n",
      "23       South Korean Won                       1348.05\n",
      "24          Kuwaiti Dinar                          0.31\n",
      "25           Libyan Dinar                          4.88\n",
      "26      Malaysian Ringgit                          4.71\n",
      "27        Mauritian Rupee                         44.18\n",
      "28           Mexican Peso                         17.89\n",
      "29         Nepalese Rupee                        133.31\n",
      "30     New Zealand Dollar                          1.68\n",
      "31        Norwegian Krone                         10.97\n",
      "32             Omani Rial                          0.39\n",
      "33        Pakistani Rupee                        279.32\n",
      "34        Philippine Peso                         56.72\n",
      "35           Polish Zloty                          4.30\n",
      "36           Qatari Riyal                          3.64\n",
      "37       Romanian New Leu                          4.70\n",
      "38          Russian Ruble                         97.66\n",
      "39    Saudi Arabian Riyal                          3.75\n",
      "40       Singapore Dollar                          1.37\n",
      "41     South African Rand                         18.97\n",
      "42       Sri Lankan Rupee                        323.76\n",
      "43          Swedish Krona                         10.97\n",
      "44            Swiss Franc                          0.91\n",
      "45      Taiwan New Dollar                         32.19\n",
      "46              Thai Baht                         36.36\n",
      "47     Trinidadian Dollar                          6.78\n",
      "48           Turkish Lira                         27.76\n",
      "49         Emirati Dirham                          3.67\n",
      "50          British Pound                          0.82\n",
      "51     Venezuelan Bolivar                    3482601.95\n"
     ]
    }
   ],
   "source": [
    "dataframe = pd.DataFrame(list(currency_exchange.items()), columns=['Currency', 'Exchange Rate (against 1 USD)'])\n",
    "\n",
    "print(dataframe)"
   ]
  },
  {
   "cell_type": "code",
   "execution_count": 40,
   "id": "4daeb4e1",
   "metadata": {},
   "outputs": [
    {
     "name": "stdout",
     "output_type": "stream",
     "text": [
      "Enter the currency: British Pound\n",
      "The exchange rate for British Pound is 0.82\n"
     ]
    }
   ],
   "source": [
    "'''\n",
    "user = input('Enter the currency: ')\n",
    "exchange_rate = dataframe[dataframe['Currency'] == user]['Exchange Rate (against 1 USD)'].values[0]\n",
    "\n",
    "print(f'The exchange rate for {user} is {exchange_rate}')\n",
    "'''"
   ]
  },
  {
   "cell_type": "code",
   "execution_count": 64,
   "id": "385fe3e8",
   "metadata": {
    "scrolled": true
   },
   "outputs": [
    {
     "name": "stdout",
     "output_type": "stream",
     "text": [
      "Enter Currency: UNITED STATES DOLLAR\n",
      "Enter Currency To Exchange: euro\n",
      "Enter Amount: 5\n",
      "5.0 in United States Dollar is equal to 5.26 in Euro\n"
     ]
    }
   ],
   "source": [
    "user_currency = input('Enter Currency: ').title()\n",
    "change_to = input('Enter Currency To Exchange: ').title()\n",
    "                \n",
    "currency_amount = float(input('Enter Amount: '))\n",
    "\n",
    "\n",
    "if user_currency == 'United States Dollar':\n",
    "    if change_to in currency_exchange:\n",
    "        result = (currency_amount/float(currency_exchange[change_to]))\n",
    "        print(f'{currency_amount} in {user_currency} is equal to {result:.2f} in {change_to}')\n",
    "        \n",
    "    else:\n",
    "        print(f'Sorry, we do not have the exchange rate for {change_to}')\n",
    "\n",
    "else:\n",
    "    if change_to == 'United States Dollar':\n",
    "        exchange_rate = float(dataframe[dataframe['Currency'] == user_currency]['Exchange Rate (against 1 USD)'].values[0])\n",
    "        to_usd = currency_amount * exchange_rate\n",
    "        print(f'{currency_amount} in {user_currency} is equals to {to_usd} in USD')\n",
    "        \n",
    "    elif change_to in currency_exchange:\n",
    "        result = (currency_amount / float(currency_exchange[user_currency])) * float(currency_exchange[change_to])\n",
    "        print(f'{currency_amount} in {user_currency} is equal to {result:.2f} in {change_to}')\n",
    "        \n",
    "    else:\n",
    "        print(f'Sorry, we do not have the exchange rate for {change_to}')\n"
   ]
  },
  {
   "cell_type": "code",
   "execution_count": null,
   "id": "34179be0",
   "metadata": {},
   "outputs": [],
   "source": []
  }
 ],
 "metadata": {
  "kernelspec": {
   "display_name": "Python 3 (ipykernel)",
   "language": "python",
   "name": "python3"
  },
  "language_info": {
   "codemirror_mode": {
    "name": "ipython",
    "version": 3
   },
   "file_extension": ".py",
   "mimetype": "text/x-python",
   "name": "python",
   "nbconvert_exporter": "python",
   "pygments_lexer": "ipython3",
   "version": "3.11.4"
  }
 },
 "nbformat": 4,
 "nbformat_minor": 5
}
